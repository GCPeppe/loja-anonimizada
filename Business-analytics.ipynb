{
 "cells": [
  {
   "cell_type": "code",
   "execution_count": 12,
   "metadata": {},
   "outputs": [],
   "source": [
    "from formater import frmt_vendas\n",
    "import pandas as pd\n",
    "from matplotlib import pyplot as plt\n",
    "from matplotlib import dates\n",
    "from datetime import datetime, timedelta\n",
    "import numpy as np\n",
    "\n",
    "frmt_vendas()"
   ]
  },
  {
   "cell_type": "code",
   "execution_count": 69,
   "metadata": {},
   "outputs": [],
   "source": [
    "plt.rcParams.update({'figure.facecolor': 'white'})\n",
    "pd.set_option('display.max_columns', None)"
   ]
  },
  {
   "cell_type": "code",
   "execution_count": 57,
   "metadata": {},
   "outputs": [],
   "source": [
    "pedidos = pd.read_csv('planilhas/dados_anon.csv', encoding='utf8')\n",
    "br_mun = pd.read_csv('BR_MUN.csv', sep=';')"
   ]
  },
  {
   "cell_type": "code",
   "execution_count": 74,
   "metadata": {},
   "outputs": [],
   "source": [
    "def padronizacao_dados_geo(df=pedidos):\n",
    "    df['Cidade'] = df['Cidade'].str.upper() #remove caracteres especiais e joga tudo para maiúsculo\n",
    "    carac_sub = {'Á':'A', 'À': 'A', 'Ã': 'A', 'Â': 'A',\n",
    "                 'É': 'E', 'Ê': 'E', 'Í': 'I', 'Ó': 'O',\n",
    "                 'Õ': 'O', 'Ô': 'O', 'Ú': 'U', 'Ç': 'C'}\n",
    "    df = df.replace({'Cidade': carac_sub}, regex=True)\n",
    "    df['Valor do Frete'].replace(0, np.nan, inplace=True)\n",
    "    br_mun = pd.read_csv('BR_MUN.csv', sep=';')\n",
    "\n",
    "    df['região'] = ['Sudeste' if x in ['MG','SP','RJ','ES']\n",
    "                    else 'Nordeste' if x in['RN','CE', 'PE', 'PB', 'AL', 'PI', 'MA', 'SE', 'BA']\n",
    "                    else 'Norte' if x in ['AM', 'PA','AP', 'RR', 'AC', 'RO', 'TO']\n",
    "                    else 'Sul' if x in['PR', 'SC', 'RS']\n",
    "                    else 'Centro-Oeste' if x in['MT', 'GO', 'MS', 'DF']\n",
    "                    else '-' for x in df['Estado']]\n",
    "    df['Data'] = pd.to_datetime(df['Data'])\n",
    "    \n",
    "    return df"
   ]
  },
  {
   "cell_type": "code",
   "execution_count": 59,
   "metadata": {
    "scrolled": true
   },
   "outputs": [],
   "source": [
    "def mostra_faturamento(data_inicial='2021-03-21', data_final=pd.to_datetime(datetime.today().date())):\n",
    "    \n",
    "    periodo = pedidos[(pedidos['Data']>=data_inicial) & (pedidos['Data']<=data_final)]\n",
    "    print('• O total faturado é de', \n",
    "        periodo['Total'].loc[periodo['Status do Pagamento'] == 'Confirmado'].sum() - \n",
    "        periodo['Desconto'].loc[periodo['Status do Pagamento'] == 'Confirmado'].sum())\n",
    "\n",
    "\n",
    "    print(str(round(periodo['Status do Pagamento'].loc[periodo['Status do Pagamento'] == 'Confirmado'].count() / \n",
    "                    len(periodo) * 100, 2)) + '%', 'dos pedidos foram confirmados')"
   ]
  },
  {
   "cell_type": "code",
   "execution_count": 60,
   "metadata": {
    "scrolled": true
   },
   "outputs": [
    {
     "name": "stdout",
     "output_type": "stream",
     "text": [
      "• O total faturado é de 12133.72\n",
      "85.98% dos pedidos foram confirmados\n",
      "• O total faturado é de 6745.94\n",
      "88.68% dos pedidos foram confirmados\n"
     ]
    }
   ],
   "source": [
    "mostra_faturamento('2022-01-01', '2022-01-30')\n",
    "mostra_faturamento('2022-02-01', '2022-02-28')"
   ]
  },
  {
   "cell_type": "code",
   "execution_count": 61,
   "metadata": {},
   "outputs": [],
   "source": [
    "def planilha_vendas(df=pedidos):\n",
    "    pagamento_conf = df['Status do Pagamento'] == 'Confirmado'\n",
    "\n",
    "    df = df.loc[pagamento_conf]\n",
    "    filtro = [x in zip(br_mun['Cidade'], br_mun['Estado']) for x in zip(df['Cidade'], df['Estado'])]\n",
    "    df = df.loc[filtro] # remove distritos de muriae e evita erros\n",
    "    df.reset_index(drop=True, inplace=True)\n",
    "\n",
    "    df['Data de pagamento'] = pd.to_datetime(df['Data de pagamento'])\n",
    "    df['ano'] = df['Data de pagamento'].dt.year\n",
    "    df['trimestre'] = df['Data de pagamento'].dt.quarter\n",
    "    df['mes'] = df['Data de pagamento'].dt.month\n",
    "    df['semana'] = df['Data de pagamento'].dt.isocalendar().week\n",
    "    df['dia'] = df['Data de pagamento'].dt.day\n",
    "    df['dia da semana'] = df['Data de pagamento'].dt.weekday\n",
    "    \n",
    "    return df"
   ]
  },
  {
   "cell_type": "code",
   "execution_count": 20,
   "metadata": {},
   "outputs": [],
   "source": [
    "def periodo_de_exercicio(df=vendas, ano=2021, periodo='trimestre', col='Subtotal'):\n",
    "    \n",
    "    df = df[df['ano']==ano].select_dtypes('number')\n",
    "    if periodo in ['trimestre', 'mes', 'semana', 'dia da semana']:\n",
    "        df = df.groupby(periodo).sum()\n",
    "        \n",
    "        fig = (plt.figure(figsize=(12,10)),\n",
    "        plt.bar(df.index, df[col]),\n",
    "        plt.title(f'Faturamento por {periodo} no ano de {ano}'),\n",
    "        plt.ylabel('Faturamento'),\n",
    "        plt.xlabel(f'{periodo}'))\n",
    "        \n",
    "    else:\n",
    "        print('periodo inválido para cálculos')\n",
    "    \n",
    "    \n",
    "    \n",
    "    return fig"
   ]
  },
  {
   "cell_type": "markdown",
   "metadata": {},
   "source": [
    "### Dados agregados por <strong> CÓDIGO IBGE</strong> do município"
   ]
  },
  {
   "cell_type": "code",
   "execution_count": 129,
   "metadata": {},
   "outputs": [],
   "source": [
    "def agregacao_por_municipio(df=pd.DataFrame(), save=False):\n",
    "    df['CD_IBGE'] = [br_mun.loc[u, 'CODIGO IBGE']\n",
    "                for cid_est in zip(df['Cidade'], df['Estado'])\n",
    "               for u, cid_est2 in enumerate(zip(br_mun['Cidade'], br_mun['Estado']))\n",
    "               if cid_est == cid_est2]\n",
    "\n",
    "    por_cidade = df[['CD_IBGE', 'Subtotal']].groupby('CD_IBGE').sum('Subtotal')\n",
    "    por_cidade['Parcela Relativa'] = round(por_cidade['Subtotal'] / df['Subtotal'].sum() * 100, 2)\n",
    "    por_cidade.reset_index(inplace=True)\n",
    "    contagem = df[['CD_IBGE','Subtotal']].groupby('CD_IBGE', as_index=False).count()\n",
    "    por_cidade['contagem'] = contagem['Subtotal']\n",
    "    por_cidade['ticket medio'] = round(por_cidade['Subtotal'] / por_cidade['contagem'], 2)\n",
    "    frete_m = df[['CD_IBGE', 'Valor do Frete']].groupby('CD_IBGE', as_index=False).mean()\n",
    "    por_cidade['frete medio'] = round(frete_m['Valor do Frete'], 2)\n",
    "\n",
    "    por_cidade.insert(1, 'Cidade', '')\n",
    "    por_cidade.insert(2, 'Estado', '')\n",
    "\n",
    "    cidades = [br_mun.loc[i, 'Cidade'] for i, cd in enumerate(br_mun['CODIGO IBGE'])\n",
    "                           for cd2 in por_cidade['CD_IBGE'] if cd == cd2]\n",
    "    estados = [br_mun.loc[i, 'Estado'] for i, cd in enumerate(br_mun['CODIGO IBGE'])\n",
    "                           for cd2 in por_cidade['CD_IBGE'] if cd == cd2]\n",
    "    por_cidade['Cidade'], por_cidade['Estado'] = cidades, estados\n",
    "    if save:\n",
    "        por_cidade.to_csv('planilhas/df_cidades.csv',\n",
    "                          encoding='utf8', sep=';', float_format='%.2f', index=False)\n",
    "    pd.set_option('display.max_rows', len(por_cidade))\n",
    "    return por_cidade.sort_values('Parcela Relativa', ascending=False, ignore_index=True)"
   ]
  },
  {
   "cell_type": "code",
   "execution_count": 25,
   "metadata": {
    "scrolled": false
   },
   "outputs": [],
   "source": [
    "def benchmark_cidades(df=por_cidade, col='Subtotal', save=False):\n",
    "    try:\n",
    "        df = por_cidade.sort_values(col, ascending=False, ignore_index=True)\n",
    "        plt.figure(figsize=(10, 10))\n",
    "        plt.barh(df['Cidade'][:15], df[col][:15])\n",
    "        plt.xlabel(f'{col}')\n",
    "        \n",
    "        if save:\n",
    "            plt.savefig(f'graficos/top_cidades_{col}.png')\n",
    "            \n",
    "    except:\n",
    "        print(f'Verifique se a coluna existe em: {por_cidade.columns.to_list()}')"
   ]
  },
  {
   "cell_type": "markdown",
   "metadata": {},
   "source": [
    "### Vendas diárias"
   ]
  },
  {
   "cell_type": "code",
   "execution_count": 102,
   "metadata": {},
   "outputs": [],
   "source": [
    " def vendas_por_dia(df=vendas):\n",
    "    por_dia = df.groupby('Data de pagamento').agg({'Subtotal': 'sum',\n",
    "                                'Desconto': 'sum',\n",
    "                                'Número do Pedido': 'count'}).rename({'Número do Pedido': 'volume'}, axis=1)\n",
    "    inicio, hoje = por_dia.index.min(), por_dia.index.max()\n",
    "    \n",
    "    intervalo = pd.DataFrame(data={'Data':pd.date_range(inicio, hoje)})\n",
    "\n",
    "    por_dia.reset_index(inplace=True)\n",
    "    \n",
    "    por_dia['Data de pagamento'] = pd.to_datetime(por_dia['Data de pagamento'])\n",
    "\n",
    "    por_dia = intervalo.merge(por_dia, right_on='Data de pagamento', left_on='Data', how='left').fillna(0)\n",
    "    por_dia.drop('Data de pagamento', axis=1, inplace=True)\n",
    "    return por_dia"
   ]
  },
  {
   "cell_type": "code",
   "execution_count": 148,
   "metadata": {},
   "outputs": [],
   "source": [
    "#por_dia.drop('Data de pagamento', axis=1)\n",
    "def analise_vendas_diarias(df=por_dia, data_inicial=por_dia['Data'].min(), \n",
    "                           data_final=por_dia['Data'].max(), save=False, ticks=10):\n",
    "    registros = len(df)\n",
    "    data_inicial = pd.to_datetime(data_inicial)\n",
    "    data_final = pd.to_datetime(data_final)\n",
    "    df = df[(df['Data']>=data_inicial) & (df['Data']<=data_final)]\n",
    "    \n",
    "    media_diaria = np.mean(df['Subtotal'])\n",
    "    acima_media = np.maximum(df['Subtotal'] - media_diaria, 0)\n",
    "    abaixo_media = np.minimum(df['Subtotal'], media_diaria)\n",
    "\n",
    "    plt.figure(figsize=(12, 10), facecolor='#363636'),\n",
    "    \n",
    "    \n",
    "    ax = plt.axes()\n",
    "    ax.set_title('Vendas diárias', color='white')\n",
    "    ax.set(facecolor='#363636')\n",
    "    ax.bar(df['Data'], df['Subtotal'], color='red')\n",
    "    ax.bar(df['Data'], acima_media, color='orange', bottom=abaixo_media)\n",
    "    ax.plot([data_inicial, data_final], [media_diaria, media_diaria], 'k--', color='royalblue', label='Média')\n",
    "    plt.xticks(df['Data'][::-ticks], rotation=45, color='white')\n",
    "    plt.yticks(fontsize=14, color='white')\n",
    "    ax.spines['bottom'].set_color('white')\n",
    "    ax.spines['top'].set_color('white')\n",
    "    ax.spines['left'].set_color('white')\n",
    "    ax.spines['right'].set_color('white')\n",
    "    ax.set_ylabel('Faturamento (R$)', fontsize=14, color='white')\n",
    "    ax.set_xlabel('Data', fontsize=14, color='white')\n",
    "    ax.set_xlim(min(df['Data'] - timedelta(days=1)), max(df['Data']) + timedelta(days=1))\n",
    "    ax.legend(fontsize=14)\n",
    "    print('')\n",
    "    \n",
    "    if save:\n",
    "        plt.savefig(f'graficos/vendas_diarias_{data_inicial.date()}a{data_final.date()}.png')"
   ]
  },
  {
   "cell_type": "code",
   "execution_count": 121,
   "metadata": {
    "scrolled": true
   },
   "outputs": [],
   "source": [
    "def agregacao_por_estado(df=vendas, save=False):\n",
    "    por_estado = df[['Estado', 'Subtotal']].groupby('Estado').sum('Subtotal')\n",
    "    por_estado['Parcela Relativa'] = round(por_estado['Subtotal'] / df['Subtotal'].sum() * 100,2)\n",
    "    por_estado.reset_index(inplace=True)\n",
    "    por_estado.sort_values(by=['Parcela Relativa'], ascending=False, ignore_index=True)\n",
    "\n",
    "    contagem = df[['Estado','Subtotal']].groupby('Estado', as_index=False).count()\n",
    "    por_estado['contagem'] = contagem['Subtotal']\n",
    "    por_estado['ticket medio'] = round(por_estado['Subtotal'] / por_estado['contagem'], 2)\n",
    "    frete_m = round(df[['Estado', 'Valor do Frete']].groupby('Estado', as_index=False).mean(), 2)\n",
    "    por_estado['frete medio'] = frete_m['Valor do Frete']\n",
    "    \n",
    "    if save:\n",
    "        por_estado.to_csv('planilhas/df_estados.csv',\n",
    "                      encoding='utf8', index=False, float_format='%.2f')\n",
    "    \n",
    "    return por_estado"
   ]
  },
  {
   "cell_type": "code",
   "execution_count": 125,
   "metadata": {
    "scrolled": true
   },
   "outputs": [],
   "source": [
    "def benchmark_estados(df=pd.DataFrame(), col='Subtotal', save=False):    \n",
    "    df = df.sort_values(by=col, ascending=False, ignore_index=True)\n",
    "\n",
    "    fig = (plt.figure(figsize=(10, 10)),\n",
    "    plt.barh(df['Estado'], df[col]))\n",
    "    plt.xlabel(f'{col}')\n",
    "    \n",
    "    if save:\n",
    "    \n",
    "        plt.savefig(f'graficos/top_estados_{col}.png')\n",
    "    \n",
    "    return fig"
   ]
  },
  {
   "cell_type": "code",
   "execution_count": null,
   "metadata": {},
   "outputs": [],
   "source": [
    "benchmark_estados(col='Subtotal', save=True)"
   ]
  },
  {
   "cell_type": "code",
   "execution_count": null,
   "metadata": {},
   "outputs": [],
   "source": [
    "por_estado.corr()"
   ]
  },
  {
   "cell_type": "code",
   "execution_count": 131,
   "metadata": {},
   "outputs": [],
   "source": [
    "def agregacao_por_regiao(df=pedidos, save=False):\n",
    "    por_regiao = df[['região', 'Subtotal']].groupby('região').sum('Subtotal')\n",
    "    por_regiao['Parcela Relativa'] = round(por_regiao['Subtotal'] / df['Subtotal'].sum() * 100,2)\n",
    "    por_regiao.reset_index(inplace=True)\n",
    "    por_regiao.sort_values(by=['Parcela Relativa'], ascending=False, ignore_index=True)\n",
    "\n",
    "    contagem = df[['região','Subtotal']].groupby('região', as_index=False).count()\n",
    "    por_regiao['contagem'] = contagem['Subtotal']\n",
    "    por_regiao['ticket medio'] = round(por_regiao['Subtotal'] / por_regiao['contagem'], 2)\n",
    "    frete_m = round(df[['região', 'Valor do Frete']].groupby('região', as_index=False).mean(), 2)\n",
    "    por_regiao['frete medio'] = frete_m['Valor do Frete']\n",
    "    \n",
    "    if save:\n",
    "        por_regiao.to_csv('planilhas/df_regiao.csv',\n",
    "                      encoding='utf8', index=False, float_format='%.2f')\n",
    "    return por_regiao.sort_values('ticket medio', ascending=False, ignore_index=True).head(len(por_regiao))"
   ]
  },
  {
   "cell_type": "code",
   "execution_count": 143,
   "metadata": {
    "scrolled": false
   },
   "outputs": [],
   "source": [
    "def benchmark_regioes(df=pd.DataFrame(), col='Subtotal', save=False):\n",
    "\n",
    "    df = df.sort_values(by=col, ascending=False, ignore_index=True)\n",
    "\n",
    "    def my_autopct(pct):\n",
    "        return ('%.2f' % pct) + '%'\n",
    "\n",
    "    fig = (plt.figure(figsize=(10,10)),\n",
    "    plt.title(f'{col} das vendas para cada região'),\n",
    "    plt.pie(df[col], labels=df['região'], autopct=my_autopct))\n",
    "    \n",
    "    if save:\n",
    "        plt.savefig(f'graficos/top_regioes_{col}.png')\n",
    "    \n",
    "    return fig"
   ]
  },
  {
   "cell_type": "code",
   "execution_count": 142,
   "metadata": {},
   "outputs": [
    {
     "name": "stdout",
     "output_type": "stream",
     "text": [
      "\n"
     ]
    },
    {
     "data": {
      "text/plain": [
       "(<Figure size 720x720 with 1 Axes>,\n",
       " Text(0.5, 1.0, 'Subtotal das vendas para cada região'),\n",
       " ([<matplotlib.patches.Wedge at 0x1c334388fd0>,\n",
       "   <matplotlib.patches.Wedge at 0x1c334397700>,\n",
       "   <matplotlib.patches.Wedge at 0x1c334397d90>,\n",
       "   <matplotlib.patches.Wedge at 0x1c332e35460>,\n",
       "   <matplotlib.patches.Wedge at 0x1c332e35af0>],\n",
       "  [Text(-0.43493027521612265, 1.0103641203548492, 'Sudeste'),\n",
       "   Text(-0.15203175427799528, -1.0894431355932055, 'Sul'),\n",
       "   Text(0.7628510254573765, -0.7925013015501169, 'Nordeste'),\n",
       "   Text(1.0295077213569614, -0.38744528861040156, 'Centro-Oeste'),\n",
       "   Text(1.0944347321850194, -0.11051070982988635, 'Norte')],\n",
       "  [Text(-0.23723469557243052, 0.5511077020117359, '62.94%'),\n",
       "   Text(-0.08292641142436107, -0.5942417103235665, '19.71%'),\n",
       "   Text(0.41610055934038714, -0.4322734372091546, '9.10%'),\n",
       "   Text(0.5615496661947061, -0.21133379378749173, '5.05%'),\n",
       "   Text(0.5969643993736469, -0.06027856899811982, '3.20%')]),\n",
       " None)"
      ]
     },
     "execution_count": 142,
     "metadata": {},
     "output_type": "execute_result"
    },
    {
     "data": {
      "image/png": "[encoded data removed]",
      "text/plain": [
       "<Figure size 720x720 with 1 Axes>"
      ]
     },
     "metadata": {},
     "output_type": "display_data"
    }
   ],
   "source": [
    "por_estado = pedidos.pipe(padronizacao_dados_geo).pipe(planilha_vendas).pipe(agregacao_por_regiao)\n",
    "benchmark_regioes(por_estado, col='Subtotal')"
   ]
  },
  {
   "cell_type": "code",
   "execution_count": 150,
   "metadata": {
    "scrolled": false
   },
   "outputs": [
    {
     "name": "stdout",
     "output_type": "stream",
     "text": [
      "\n"
     ]
    },
    {
     "data": {
      "image/png": "[encoded data removed]",
      "text/plain": [
       "<Figure size 864x720 with 1 Axes>"
      ]
     },
     "metadata": {},
     "output_type": "display_data"
    }
   ],
   "source": [
    "por_dia = pedidos.pipe(padronizacao_dados_geo).pipe(planilha_vendas).pipe(vendas_por_dia)\n",
    "analise_vendas_diarias(df=por_dia, data_inicial='2022-02-01', data_final='2022-02-28', ticks=2, save=True)"
   ]
  },
  {
   "cell_type": "code",
   "execution_count": 145,
   "metadata": {},
   "outputs": [
    {
     "data": {
      "text/plain": [
       "(<Figure size 864x720 with 1 Axes>,\n",
       " <BarContainer object of 10 artists>,\n",
       " Text(0.5, 1.0, 'Faturamento por mes no ano de 2021'),\n",
       " Text(0, 0.5, 'Faturamento'),\n",
       " Text(0.5, 0, 'mes'))"
      ]
     },
     "execution_count": 145,
     "metadata": {},
     "output_type": "execute_result"
    },
    {
     "data": {
      "image/png": "[encoded data removed]",
      "text/plain": [
       "<Figure size 864x720 with 1 Axes>"
      ]
     },
     "metadata": {},
     "output_type": "display_data"
    }
   ],
   "source": [
    "pedidos.pipe(padronizacao_dados_geo).pipe(planilha_vendas).pipe(periodo_de_exercicio, ano=2021, periodo='mes')"
   ]
  }
 ],
 "metadata": {
  "kernelspec": {
   "display_name": "Python 3",
   "language": "python",
   "name": "python3"
  },
  "language_info": {
   "codemirror_mode": {
    "name": "ipython",
    "version": 3
   },
   "file_extension": ".py",
   "mimetype": "text/x-python",
   "name": "python",
   "nbconvert_exporter": "python",
   "pygments_lexer": "ipython3",
   "version": "3.8.5"
  }
 },
 "nbformat": 4,
 "nbformat_minor": 4
}
